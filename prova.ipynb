{
 "cells": [
  {
   "cell_type": "code",
   "execution_count": 8,
   "metadata": {},
   "outputs": [],
   "source": [
    "from src.zero_shooter import TaxZeroShot\n",
    "from src.dataset import WebOfScience\n",
    "from globals import Paths\n",
    "\n",
    "train_data = WebOfScience('train', topn=200, embeddings_precomputed=True)\n",
    "\n",
    "tax_zero_shooter = TaxZeroShot(\n",
    "    train_data.tax_tree,\n",
    "    f'{Paths.SAVE_DIR}/label_alphas_WebOfScience.json',\n",
    "    freeze_zstc=True,\n",
    "    freeze_usp=True\n",
    ")"
   ]
  },
  {
   "cell_type": "code",
   "execution_count": 13,
   "metadata": {},
   "outputs": [
    {
     "data": {
      "text/plain": [
       "[]"
      ]
     },
     "execution_count": 13,
     "metadata": {},
     "output_type": "execute_result"
    }
   ],
   "source": [
    "list(p for p in tax_zero_shooter.zstc.encoder.model.parameters() if p.requires_grad)"
   ]
  },
  {
   "cell_type": "code",
   "execution_count": 10,
   "metadata": {},
   "outputs": [
    {
     "data": {
      "text/plain": [
       "[Parameter containing:\n",
       " tensor([0.3870, 0.4240, 0.1770, 0.3030, 0.3530, 0.3250, 0.5020, 0.0160, 0.2530,\n",
       "         0.2610, 0.3190, 0.2480, 0.4440, 0.2700, 0.2910, 0.2680, 0.3410, 0.3330,\n",
       "         0.0290, 0.2850, 0.0130, 0.0110, 0.5220, 0.4360, 0.2250, 0.0050, 0.3040,\n",
       "         0.0010, 0.0180, 0.3420, 0.3000, 0.1680, 0.4190, 0.3640, 0.4630, 0.6230,\n",
       "         0.4430, 0.3620, 0.3750, 0.3330, 0.2460, 0.2730, 0.3170, 0.2980, 0.3310,\n",
       "         0.3410, 0.3040, 0.4630, 0.2580, 0.2010, 0.3490, 0.3010, 0.4070, 0.3370,\n",
       "         0.0270, 0.3650, 0.0060, 0.2850, 0.3020, 0.0060, 0.3170, 0.2890, 0.3020,\n",
       "         0.2610, 0.2120, 0.3570, 0.0090, 0.1520, 0.2420, 0.4590, 0.2410, 0.2460,\n",
       "         0.4190, 0.2870, 0.3190, 0.2820, 0.0010, 0.4170, 0.2660, 0.0180, 0.5250,\n",
       "         0.0130, 0.1810, 0.3160, 0.3040, 0.3590, 0.4040, 0.1030, 0.3780, 0.2670,\n",
       "         0.3570, 0.2770, 0.0310, 0.4140, 0.2850, 0.0030, 0.4230, 0.2430, 0.1900,\n",
       "         0.3030, 0.2940, 0.2820, 0.2360, 0.2320, 0.1420, 0.1490, 0.0070, 0.2410,\n",
       "         0.4160, 0.3370, 0.3920, 0.0080, 0.0340, 0.0790, 0.2880, 0.2870, 0.2640,\n",
       "         0.2480, 0.2900, 0.2670, 0.2590, 0.2520, 0.2750, 0.2340, 0.2520, 0.4500,\n",
       "         0.2760, 0.3130, 0.3380, 0.2870, 0.2840, 0.2850, 0.0130, 0.3480, 0.2880,\n",
       "         0.3270, 0.0310, 0.2420, 0.2190, 0.4030, 0.4330, 0.2270, 0.2280, 0.3970,\n",
       "         0.2940, 0.0760, 0.0300, 0.0260, 0.3860, 0.2500]),\n",
       " Parameter containing:\n",
       " tensor([10.])]"
      ]
     },
     "execution_count": 10,
     "metadata": {},
     "output_type": "execute_result"
    }
   ],
   "source": [
    "list(tax_zero_shooter.USP.sigmoid_gate_model.parameters())"
   ]
  },
  {
   "cell_type": "code",
   "execution_count": 15,
   "metadata": {},
   "outputs": [
    {
     "data": {
      "text/plain": [
       "[]"
      ]
     },
     "execution_count": 15,
     "metadata": {},
     "output_type": "execute_result"
    }
   ],
   "source": [
    "params = list(p for p in tax_zero_shooter.zstc.encoder.model.parameters() if p.requires_grad) + \\\n",
    "list(p for p in tax_zero_shooter.USP.sigmoid_gate_model.parameters() if p.requires_grad)\n",
    "params"
   ]
  },
  {
   "cell_type": "code",
   "execution_count": 16,
   "metadata": {},
   "outputs": [],
   "source": [
    "import pandas as pd"
   ]
  },
  {
   "cell_type": "code",
   "execution_count": 18,
   "metadata": {},
   "outputs": [
    {
     "data": {
      "text/html": [
       "<div>\n",
       "<style scoped>\n",
       "    .dataframe tbody tr th:only-of-type {\n",
       "        vertical-align: middle;\n",
       "    }\n",
       "\n",
       "    .dataframe tbody tr th {\n",
       "        vertical-align: top;\n",
       "    }\n",
       "\n",
       "    .dataframe thead th {\n",
       "        text-align: right;\n",
       "    }\n",
       "</style>\n",
       "<table border=\"1\" class=\"dataframe\">\n",
       "  <thead>\n",
       "    <tr style=\"text-align: right;\">\n",
       "      <th></th>\n",
       "      <th>a</th>\n",
       "      <th>b</th>\n",
       "      <th>c</th>\n",
       "    </tr>\n",
       "  </thead>\n",
       "  <tbody>\n",
       "    <tr>\n",
       "      <th>0</th>\n",
       "      <td>1</td>\n",
       "      <td>2</td>\n",
       "      <td>3</td>\n",
       "    </tr>\n",
       "  </tbody>\n",
       "</table>\n",
       "</div>"
      ],
      "text/plain": [
       "   a  b  c\n",
       "0  1  2  3"
      ]
     },
     "execution_count": 18,
     "metadata": {},
     "output_type": "execute_result"
    }
   ],
   "source": [
    "a = {'a': 1, 'b': 2, 'c': 3}\n",
    "x = pd.DataFrame([a])\n",
    "x"
   ]
  },
  {
   "cell_type": "code",
   "execution_count": 21,
   "metadata": {},
   "outputs": [
    {
     "data": {
      "text/html": [
       "<div>\n",
       "<style scoped>\n",
       "    .dataframe tbody tr th:only-of-type {\n",
       "        vertical-align: middle;\n",
       "    }\n",
       "\n",
       "    .dataframe tbody tr th {\n",
       "        vertical-align: top;\n",
       "    }\n",
       "\n",
       "    .dataframe thead th {\n",
       "        text-align: right;\n",
       "    }\n",
       "</style>\n",
       "<table border=\"1\" class=\"dataframe\">\n",
       "  <thead>\n",
       "    <tr style=\"text-align: right;\">\n",
       "      <th></th>\n",
       "      <th>a</th>\n",
       "      <th>b</th>\n",
       "      <th>c</th>\n",
       "    </tr>\n",
       "  </thead>\n",
       "  <tbody>\n",
       "    <tr>\n",
       "      <th>0</th>\n",
       "      <td>1</td>\n",
       "      <td>2</td>\n",
       "      <td>3</td>\n",
       "    </tr>\n",
       "    <tr>\n",
       "      <th>1</th>\n",
       "      <td>4</td>\n",
       "      <td>5</td>\n",
       "      <td>6</td>\n",
       "    </tr>\n",
       "  </tbody>\n",
       "</table>\n",
       "</div>"
      ],
      "text/plain": [
       "   a  b  c\n",
       "0  1  2  3\n",
       "1  4  5  6"
      ]
     },
     "execution_count": 21,
     "metadata": {},
     "output_type": "execute_result"
    }
   ],
   "source": [
    "b = {'a': 4, 'b': 5, 'c': 6}\n",
    "\n",
    "x = pd.concat([x, pd.DataFrame([b])], ignore_index=True)\n",
    "x"
   ]
  }
 ],
 "metadata": {
  "kernelspec": {
   "display_name": "Python 3",
   "language": "python",
   "name": "python3"
  },
  "language_info": {
   "codemirror_mode": {
    "name": "ipython",
    "version": 3
   },
   "file_extension": ".py",
   "mimetype": "text/x-python",
   "name": "python",
   "nbconvert_exporter": "python",
   "pygments_lexer": "ipython3",
   "version": "3.11.9"
  },
  "orig_nbformat": 4
 },
 "nbformat": 4,
 "nbformat_minor": 2
}
