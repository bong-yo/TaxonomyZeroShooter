{
 "cells": [
  {
   "cell_type": "code",
   "execution_count": 1,
   "metadata": {},
   "outputs": [],
   "source": [
    "from src.dataset import LINKSData\n",
    "from globals import Paths\n",
    "\n",
    "data = LINKSData(\n",
    "    f'{Paths.JOANNE_DIR}/labelled_abstracts_Cerise&Joanne.xlsx',\n",
    "    taxtype='ambiti tecnici'\n",
    ")"
   ]
  },
  {
   "cell_type": "code",
   "execution_count": 5,
   "metadata": {},
   "outputs": [],
   "source": [
    "from src.zero_shooter import TaxZeroShot\n",
    "\n",
    "# Load ZeroShooter model.\n",
    "tax_zero_shooter = TaxZeroShot(\n",
    "    data.tax_tree,\n",
    "    label_thresholds_file=f'{Paths.SAVE_DIR}/label_alphas_AmbitiTecnici.json',\n",
    "    freeze_zstc=False,\n",
    "    freeze_usp=False\n",
    ")"
   ]
  },
  {
   "cell_type": "code",
   "execution_count": 3,
   "metadata": {},
   "outputs": [],
   "source": [
    "from src.few_shot.modeling import ExampleFewShot, FewShotTrainer\n",
    "\n",
    "# Get data into ExampleFewShot format.\n",
    "perc_training = 0.7\n",
    "n_train = int(perc_training * data.n_data)\n",
    "examples = [\n",
    "    ExampleFewShot(\n",
    "        text=data.abstracts[i],\n",
    "        labels=[data.Y[j][i] for j in range(data.tax_depth)]\n",
    "    )\n",
    "    for i in range(data.n_data)\n",
    "]\n",
    "examples_train, examples_valid = examples[: n_train], examples[n_train:]"
   ]
  },
  {
   "cell_type": "code",
   "execution_count": 6,
   "metadata": {},
   "outputs": [
    {
     "name": "stderr",
     "output_type": "stream",
     "text": [
      "100%|██████████| 47/47 [00:11<00:00,  3.96it/s]\n",
      "100%|██████████| 2/2 [00:24<00:00, 12.26s/it]\n",
      "[17:22:06][modeling.py]- INFO: SEEN: prec: 0.250, rec: 0.188, f1: 0.199\n",
      "[17:22:06][modeling.py]- INFO: UNSEEN: prec: 0.000, rec: 0.000, f1: 0.000\n"
     ]
    }
   ],
   "source": [
    "# Train few-shots.\n",
    "labels_to_consider = data.labels_levels[0]\n",
    "labels_train = set([example.labels[0] for example in examples_train])\n",
    "fs_trainer = FewShotTrainer(\n",
    "    labels_all=labels_to_consider,\n",
    "    labels_train=labels_train\n",
    ")\n",
    "# Evaluate\n",
    "# fs_trainer.evaluate(tax_zero_shooter, examples_valid)\n",
    "lr_zstc = 1e-3\n",
    "lr_usp = 0.1\n",
    "n_epochs = 4\n",
    "tax_zero_shooter = fs_trainer.train(tax_zero_shooter, examples_train,\n",
    "                                    examples_valid, lr_zstc=lr_zstc,\n",
    "                                    lr_usp=lr_usp, n_epochs=n_epochs)\n",
    "res = fs_trainer.evaluate(tax_zero_shooter, examples_valid)\n",
    "res['n_shots'] = len(examples_train)\n",
    "res['lr_zstc'] = lr_zstc\n",
    "res['lr_usp'] = lr_usp\n",
    "res['n_epochs'] = n_epochs\n",
    "res['freeze_zstc'] = True\n",
    "res['freeze_usp'] = True"
   ]
  },
  {
   "cell_type": "code",
   "execution_count": 7,
   "metadata": {},
   "outputs": [
    {
     "data": {
      "text/plain": [
       "{'Biotechnology and Biosystems Engineering',\n",
       " 'Computer Science',\n",
       " 'Earth System Science',\n",
       " 'Environmental Biology, Ecology and Evolution',\n",
       " 'Human Mobility, Environment, and Space',\n",
       " 'Immunity, Infection and Immunotherapy',\n",
       " 'Institutions, Governance and Legal Systems',\n",
       " 'Integrative Biology: from Genes and Genomes to Systems',\n",
       " 'Materials Engineering',\n",
       " 'Prevention, Diagnosis and Treatment of Human Diseases',\n",
       " 'Products and Processes Engineering',\n",
       " 'Sciences and Humanities',\n",
       " 'Systems and Communication Engineering',\n",
       " 'The Social World and Its Diversity'}"
      ]
     },
     "execution_count": 7,
     "metadata": {},
     "output_type": "execute_result"
    }
   ],
   "source": [
    "labels_train"
   ]
  },
  {
   "cell_type": "code",
   "execution_count": 8,
   "metadata": {},
   "outputs": [
    {
     "data": {
      "text/plain": [
       "['The Study of the Human Past',\n",
       " 'The Human Mind and Its Complexity',\n",
       " 'Mathematics',\n",
       " 'Physiology in Health, Disease and Ageing',\n",
       " 'Cellular, Developmental and Regenerative Biology',\n",
       " 'Physical and Analytical Chemical Sciences',\n",
       " 'Neuroscience and Disorders of the Nervous System',\n",
       " 'Universe Sciences',\n",
       " 'Computer Science and Informatics',\n",
       " 'Synthetic Chemistry and Materials',\n",
       " 'Individuals, Markets and Organisations',\n",
       " 'Cultures and Cultural Production',\n",
       " 'Fundamental Constituents of Matter',\n",
       " 'Molecules of Life: Biological Mechanisms, Structures and Functions',\n",
       " 'Condensed Matter Physics']"
      ]
     },
     "execution_count": 8,
     "metadata": {},
     "output_type": "execute_result"
    }
   ],
   "source": [
    "[x for x in labels_to_consider if x not in labels_train]"
   ]
  }
 ],
 "metadata": {
  "kernelspec": {
   "display_name": "Python 3",
   "language": "python",
   "name": "python3"
  },
  "language_info": {
   "codemirror_mode": {
    "name": "ipython",
    "version": 3
   },
   "file_extension": ".py",
   "mimetype": "text/x-python",
   "name": "python",
   "nbconvert_exporter": "python",
   "pygments_lexer": "ipython3",
   "version": "3.11.9"
  },
  "orig_nbformat": 4
 },
 "nbformat": 4,
 "nbformat_minor": 2
}
