{
 "cells": [
  {
   "cell_type": "code",
   "execution_count": 181,
   "metadata": {},
   "outputs": [],
   "source": [
    "import numpy as np\n",
    "import torch\n",
    "from torch import Tensor\n",
    "import torch.nn as nn\n",
    "from torch.optim import SGD\n",
    "\n",
    "\n",
    "def usp(children_posteriors, parents_priors, thresh_a):\n",
    "    parents_posteriors = []\n",
    "    for i, p in enumerate(parents_priors):\n",
    "        score = p\n",
    "        for pc in children_posteriors[i]:\n",
    "            if pc > thresh_a[i] and pc > score:\n",
    "                score = pc\n",
    "            else:\n",
    "                delta = torch.max(torch.tensor(0), (pc - score) / thresh_a[i])\n",
    "                score = score * torch.exp(delta)\n",
    "                score = torch.min(torch.tensor(1), score)\n",
    "        parents_posteriors.append(score)\n",
    "    return torch.stack(parents_posteriors)\n",
    "\n",
    "\n",
    "\n",
    "\n",
    "thresh_a = nn.Parameter(Tensor([0.5, 0.4]))\n",
    "parents_priors = Tensor([0.15, 0.2])\n",
    "children_posteriors = Tensor([[0.3, 0.2, 0.03], [0.1, 0.25, 0.1]])\n",
    "\n",
    "targ = Tensor([1, 0])\n",
    "\n",
    "criterion = nn.CrossEntropyLoss()\n",
    "optimizer = SGD([thresh_a], lr=0.1)"
   ]
  },
  {
   "cell_type": "code",
   "execution_count": 182,
   "metadata": {},
   "outputs": [
    {
     "name": "stdout",
     "output_type": "stream",
     "text": [
      "\n",
      "Epoch: 0, Loss: 0.7053\n",
      "tensor([0.4939, 0.4036])\n",
      "tensor([0.2025, 0.2266], grad_fn=<StackBackward0>)\n",
      "\n",
      "Epoch: 1, Loss: 0.7048\n",
      "tensor([0.4875, 0.4071])\n",
      "tensor([0.2032, 0.2264], grad_fn=<StackBackward0>)\n",
      "\n",
      "Epoch: 2, Loss: 0.7043\n",
      "tensor([0.4810, 0.4105])\n",
      "tensor([0.2040, 0.2261], grad_fn=<StackBackward0>)\n",
      "\n",
      "Epoch: 3, Loss: 0.7037\n",
      "tensor([0.4743, 0.4139])\n",
      "tensor([0.2049, 0.2259], grad_fn=<StackBackward0>)\n",
      "\n",
      "Epoch: 4, Loss: 0.7031\n",
      "tensor([0.4674, 0.4173])\n",
      "tensor([0.2058, 0.2257], grad_fn=<StackBackward0>)\n",
      "\n",
      "Epoch: 5, Loss: 0.7025\n",
      "tensor([0.4602, 0.4205])\n",
      "tensor([0.2068, 0.2255], grad_fn=<StackBackward0>)\n",
      "\n",
      "Epoch: 6, Loss: 0.7019\n",
      "tensor([0.4528, 0.4237])\n",
      "tensor([0.2078, 0.2253], grad_fn=<StackBackward0>)\n",
      "\n",
      "Epoch: 7, Loss: 0.7012\n",
      "tensor([0.4451, 0.4269])\n",
      "tensor([0.2089, 0.2250], grad_fn=<StackBackward0>)\n",
      "\n",
      "Epoch: 8, Loss: 0.7005\n",
      "tensor([0.4371, 0.4300])\n",
      "tensor([0.2101, 0.2249], grad_fn=<StackBackward0>)\n",
      "\n",
      "Epoch: 9, Loss: 0.6998\n",
      "tensor([0.4287, 0.4331])\n",
      "tensor([0.2114, 0.2247], grad_fn=<StackBackward0>)\n"
     ]
    }
   ],
   "source": [
    "for epoch in range(10):\n",
    "    optimizer.zero_grad()\n",
    "    y = usp(children_posteriors, parents_priors, thresh_a)\n",
    "    loss = criterion(y.unsqueeze(0), targ.unsqueeze(0))\n",
    "    loss.backward()\n",
    "    optimizer.step()\n",
    "    print('\\nEpoch: %d, Loss: %.4f' % (epoch, loss.item()))\n",
    "    print(thresh_a.data)\n",
    "    print(y)"
   ]
  }
 ],
 "metadata": {
  "kernelspec": {
   "display_name": "Python 3",
   "language": "python",
   "name": "python3"
  },
  "language_info": {
   "codemirror_mode": {
    "name": "ipython",
    "version": 3
   },
   "file_extension": ".py",
   "mimetype": "text/x-python",
   "name": "python",
   "nbconvert_exporter": "python",
   "pygments_lexer": "ipython3",
   "version": "3.11.9"
  },
  "orig_nbformat": 4
 },
 "nbformat": 4,
 "nbformat_minor": 2
}
